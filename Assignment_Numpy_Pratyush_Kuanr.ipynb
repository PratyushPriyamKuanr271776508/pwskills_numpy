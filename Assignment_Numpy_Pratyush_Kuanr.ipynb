{
  "nbformat": 4,
  "nbformat_minor": 0,
  "metadata": {
    "colab": {
      "provenance": [],
      "authorship_tag": "ABX9TyNYYA08vexLq6fneLdQDHQ7",
      "include_colab_link": true
    },
    "kernelspec": {
      "name": "python3",
      "display_name": "Python 3"
    },
    "language_info": {
      "name": "python"
    }
  },
  "cells": [
    {
      "cell_type": "markdown",
      "metadata": {
        "id": "view-in-github",
        "colab_type": "text"
      },
      "source": [
        "<a href=\"https://colab.research.google.com/github/PratyushPriyamKuanr271776508/pwskills_numpy/blob/main/Assignment_Numpy_Pratyush_Kuanr.ipynb\" target=\"_parent\"><img src=\"https://colab.research.google.com/assets/colab-badge.svg\" alt=\"Open In Colab\"/></a>"
      ]
    },
    {
      "cell_type": "code",
      "source": [
        "import numpy as np"
      ],
      "metadata": {
        "id": "Di6XN8gNKCKj"
      },
      "execution_count": 1,
      "outputs": []
    },
    {
      "cell_type": "markdown",
      "source": [
        "### 1. **Purpose and Advantages of NumPy in Scientific Computing and Data Analysis**\n",
        "NumPy is essential in Python for scientific computing due to its efficiency in handling large datasets and complex mathematical operations. It provides fast array operations, tools for linear algebra, Fourier transforms, and random number generation. Its efficiency comes from the underlying C and Fortran libraries, which allow for operations that are vectorized, meaning they can be applied over entire arrays without needing loops, enhancing speed significantly.\n",
        "\n",
        "*Advantages:*\n",
        "- **Efficient Storage and Performance**: Operates faster than Python lists because data is stored in contiguous memory blocks.\n",
        "- **Vectorization and Broadcasting**: Allows batch operations over arrays without explicit loops.\n",
        "- **Built-in Functions**: Offers a wide range of mathematical functions for element-wise operations.\n",
        "- **Interoperability**: Easily integrates with other libraries (e.g., Pandas, Scipy, TensorFlow), enhancing Python's capabilities."
      ],
      "metadata": {
        "id": "6SfcRsGXJ8CJ"
      }
    },
    {
      "cell_type": "markdown",
      "source": [
        "### 2. **Comparison of `np.mean()` and `np.average()`**\n",
        "- **`np.mean()`** calculates the arithmetic mean along the specified axis without any weighting.\n",
        "- **`np.average()`** calculates a weighted average if weights are specified; otherwise, it behaves like `np.mean()`.\n",
        "\n",
        "\n",
        "\n",
        "**Use Case**: Use `np.average()` when weighting is required; otherwise, `np.mean()` is sufficient.\n"
      ],
      "metadata": {
        "id": "K99KrPj-KK3i"
      }
    },
    {
      "cell_type": "code",
      "execution_count": 2,
      "metadata": {
        "colab": {
          "base_uri": "https://localhost:8080/"
        },
        "id": "Bac-zZhsJyGe",
        "outputId": "da43acac-bbfb-4426-d85d-d6e1814b65af"
      },
      "outputs": [
        {
          "output_type": "stream",
          "name": "stdout",
          "text": [
            "Mean: 2.5\n",
            "Weighted Average: 2.6666666666666665\n"
          ]
        }
      ],
      "source": [
        "arr = np.array([1, 2, 3, 4])\n",
        "\n",
        "# Mean\n",
        "mean_value = np.mean(arr)\n",
        "print(\"Mean:\", mean_value)\n",
        "\n",
        "# Weighted Average\n",
        "weights = np.array([1, 2, 1, 2])\n",
        "weighted_avg = np.average(arr, weights=weights)\n",
        "print(\"Weighted Average:\", weighted_avg)"
      ]
    },
    {
      "cell_type": "markdown",
      "source": [
        "### 3. **Reversing a NumPy Array Along Different Axes**"
      ],
      "metadata": {
        "id": "gRE4ob4kLCur"
      }
    },
    {
      "cell_type": "code",
      "source": [
        "# For a 1D array\n",
        "\n",
        "arr_1d = np.array([1, 2, 3, 4])\n",
        "reversed_1d = arr_1d[::-1]\n",
        "print(\"Reversed 1D Array:\", reversed_1d)"
      ],
      "metadata": {
        "colab": {
          "base_uri": "https://localhost:8080/"
        },
        "id": "KPrYRP6bLOL7",
        "outputId": "97c3ddc6-352f-40c3-d8f1-2700143c6612"
      },
      "execution_count": 4,
      "outputs": [
        {
          "output_type": "stream",
          "name": "stdout",
          "text": [
            "Reversed 1D Array: [4 3 2 1]\n"
          ]
        }
      ]
    },
    {
      "cell_type": "code",
      "source": [
        "# For a 2D array\n",
        "\n",
        "arr_2d = np.array([[1, 2, 3], [4, 5, 6], [7, 8, 9]])\n",
        "# Reverse rows\n",
        "reversed_rows = arr_2d[::-1]\n",
        "print(\"Reversed Rows:\\n\", reversed_rows)\n",
        "\n",
        "# Reverse columns\n",
        "reversed_cols = arr_2d[:, ::-1]\n",
        "print(\"Reversed Columns:\\n\", reversed_cols)"
      ],
      "metadata": {
        "colab": {
          "base_uri": "https://localhost:8080/"
        },
        "id": "OxKc77PGKQMy",
        "outputId": "3fa2296e-85e5-498b-86a8-0828d1d7170f"
      },
      "execution_count": 3,
      "outputs": [
        {
          "output_type": "stream",
          "name": "stdout",
          "text": [
            "Reversed Rows:\n",
            " [[7 8 9]\n",
            " [4 5 6]\n",
            " [1 2 3]]\n",
            "Reversed Columns:\n",
            " [[3 2 1]\n",
            " [6 5 4]\n",
            " [9 8 7]]\n"
          ]
        }
      ]
    },
    {
      "cell_type": "markdown",
      "source": [
        "### 4. **Determining the Data Type of Elements in a NumPy Array**\n",
        "\n",
        "**Importance**: Proper data types optimize memory usage and performance. For example, using `int32` instead of `float64` can reduce memory consumption."
      ],
      "metadata": {
        "id": "lWxIwU43LxoX"
      }
    },
    {
      "cell_type": "code",
      "source": [
        "arr = np.array([1, 2, 3], dtype=np.float64)\n",
        "print(\"Data Type:\", arr.dtype)"
      ],
      "metadata": {
        "colab": {
          "base_uri": "https://localhost:8080/"
        },
        "id": "v7VcBPu0LKOn",
        "outputId": "02eca4c6-0164-40ed-fe73-9ca910dbb580"
      },
      "execution_count": 5,
      "outputs": [
        {
          "output_type": "stream",
          "name": "stdout",
          "text": [
            "Data Type: float64\n"
          ]
        }
      ]
    },
    {
      "cell_type": "markdown",
      "source": [
        "### 5. **Defining `ndarrays` in NumPy and Their Key Features**\n",
        "\n",
        "An `ndarray` (n-dimensional array) in NumPy is a grid of values, all of the same type, indexed by a tuple of non-negative integers. Unlike lists, `ndarrays` support efficient operations, require less memory, and allow element-wise operations.\n",
        "\n",
        "*Features:*\n",
        "- **Homogeneous Data**: All elements are of the same type.\n",
        "- **Efficient Indexing**: Faster access and operations.\n",
        "- **Vectorized Operations**: Apply operations across arrays without loops."
      ],
      "metadata": {
        "id": "DbZfeZGRMFLc"
      }
    },
    {
      "cell_type": "code",
      "source": [
        "ndarray = np.array([[1, 2, 3], [4, 5, 6]])\n",
        "print(\"NDArray:\\n\", ndarray)"
      ],
      "metadata": {
        "colab": {
          "base_uri": "https://localhost:8080/"
        },
        "id": "VBz9K4M_L6OR",
        "outputId": "073fa5c4-d7b3-4e9d-b35b-b0182cdada72"
      },
      "execution_count": 6,
      "outputs": [
        {
          "output_type": "stream",
          "name": "stdout",
          "text": [
            "NDArray:\n",
            " [[1 2 3]\n",
            " [4 5 6]]\n"
          ]
        }
      ]
    },
    {
      "cell_type": "markdown",
      "source": [
        "### 6. **Performance Benefits of NumPy Arrays over Python Lists**\n",
        "\n",
        "NumPy arrays are more memory-efficient and faster due to contiguous memory storage and vectorized operations. When performing large-scale computations, this results in a significant performance boost."
      ],
      "metadata": {
        "id": "r33RNdZ1MMCC"
      }
    },
    {
      "cell_type": "markdown",
      "source": [
        "### 7. **Comparison of `vstack()` and `hstack()` Functions**\n",
        "\n",
        "- **`vstack()`** stacks arrays vertically (row-wise).\n",
        "- **`hstack()`** stacks arrays horizontally (column-wise).\n",
        "\n",
        "**Example:**\n"
      ],
      "metadata": {
        "id": "6sPH2iEDMTFX"
      }
    },
    {
      "cell_type": "code",
      "source": [
        "arr1 = np.array([1, 2, 3])\n",
        "arr2 = np.array([4, 5, 6])\n",
        "\n",
        "# Vertical stack\n",
        "vstacked = np.vstack((arr1, arr2))\n",
        "print(\"Vertical Stack:\\n\", vstacked)\n",
        "\n",
        "# Horizontal stack\n",
        "hstacked = np.hstack((arr1, arr2))\n",
        "print(\"Horizontal Stack:\", hstacked)"
      ],
      "metadata": {
        "colab": {
          "base_uri": "https://localhost:8080/"
        },
        "id": "bI7cQkOSMLr_",
        "outputId": "3b190ed3-86d8-4d9c-d5b5-5b68625f390a"
      },
      "execution_count": 7,
      "outputs": [
        {
          "output_type": "stream",
          "name": "stdout",
          "text": [
            "Vertical Stack:\n",
            " [[1 2 3]\n",
            " [4 5 6]]\n",
            "Horizontal Stack: [1 2 3 4 5 6]\n"
          ]
        }
      ]
    },
    {
      "cell_type": "markdown",
      "source": [
        "### 8. **Differences between `fliplr()` and `flipud()`**\n",
        "\n",
        "- **`fliplr()`** flips an array horizontally (left-to-right).\n",
        "- **`flipud()`** flips an array vertically (top-to-bottom).\n",
        "\n",
        "**Example:**"
      ],
      "metadata": {
        "id": "Tzq4kC0IM3RU"
      }
    },
    {
      "cell_type": "code",
      "source": [
        "arr = np.array([[1, 2, 3], [4, 5, 6], [7, 8, 9]])\n",
        "\n",
        "# Flip Left-Right\n",
        "flipped_lr = np.fliplr(arr)\n",
        "print(\"Flipped Left-Right:\\n\", flipped_lr)\n",
        "\n",
        "# Flip Up-Down\n",
        "flipped_ud = np.flipud(arr)\n",
        "print(\"Flipped Up-Down:\\n\", flipped_ud)"
      ],
      "metadata": {
        "colab": {
          "base_uri": "https://localhost:8080/"
        },
        "id": "96kcE8r5MH3Y",
        "outputId": "680f7e78-08d8-4848-bfbd-aaea39c954e4"
      },
      "execution_count": 8,
      "outputs": [
        {
          "output_type": "stream",
          "name": "stdout",
          "text": [
            "Flipped Left-Right:\n",
            " [[3 2 1]\n",
            " [6 5 4]\n",
            " [9 8 7]]\n",
            "Flipped Up-Down:\n",
            " [[7 8 9]\n",
            " [4 5 6]\n",
            " [1 2 3]]\n"
          ]
        }
      ]
    },
    {
      "cell_type": "markdown",
      "source": [
        "### 9. **Functionality of `array_split()`**\n",
        "\n",
        "The `array_split()` method splits an array into sub-arrays, allowing uneven splits if the array cannot be divided equally.\n",
        "\n",
        "**Example:**"
      ],
      "metadata": {
        "id": "k06fpYvbNfVc"
      }
    },
    {
      "cell_type": "code",
      "source": [
        "arr = np.array([1, 2, 3, 4, 5])\n",
        "split_arr = np.array_split(arr, 3)\n",
        "print(\"Split Array:\", split_arr)"
      ],
      "metadata": {
        "colab": {
          "base_uri": "https://localhost:8080/"
        },
        "id": "UKqfDJA_M7Iz",
        "outputId": "afece946-b1e5-46c0-bac8-a573c66fd984"
      },
      "execution_count": 9,
      "outputs": [
        {
          "output_type": "stream",
          "name": "stdout",
          "text": [
            "Split Array: [array([1, 2]), array([3, 4]), array([5])]\n"
          ]
        }
      ]
    },
    {
      "cell_type": "markdown",
      "source": [
        "### 10. **Vectorization and Broadcasting**\n",
        "\n",
        "- **Vectorization** allows operations on entire arrays without looping, which speeds up calculations.\n",
        "- **Broadcasting** enables operations on arrays of different shapes by virtually expanding smaller arrays to match larger arrays.\n",
        "\n",
        "\n",
        "**Benefits**: Vectorization and broadcasting make NumPy operations fast and efficient by avoiding Python loops, reducing computation time and memory overhead."
      ],
      "metadata": {
        "id": "ZDoYkcRPNzLT"
      }
    },
    {
      "cell_type": "code",
      "source": [
        "arr1 = np.array([1, 2, 3])\n",
        "arr2 = np.array([1])\n",
        "result = arr1 + arr2  # Broadcasting\n",
        "print(\"Broadcasting Result:\", result)\n",
        "\n",
        "arr = np.array([1, 2, 3, 4, 5])\n",
        "squared_arr = arr ** 2\n",
        "print(\"Squared Array (using vectorization):\", squared_arr)\n"
      ],
      "metadata": {
        "colab": {
          "base_uri": "https://localhost:8080/"
        },
        "id": "IxdRXej-Nito",
        "outputId": "fbf38e78-b0c7-4cd3-bb25-babe68c8e54e"
      },
      "execution_count": 13,
      "outputs": [
        {
          "output_type": "stream",
          "name": "stdout",
          "text": [
            "Broadcasting Result: [2 3 4]\n",
            "Squared Array (using vectorization): [ 1  4  9 16 25]\n"
          ]
        }
      ]
    },
    {
      "cell_type": "markdown",
      "source": [],
      "metadata": {
        "id": "eyUkeLJUPSTf"
      }
    },
    {
      "cell_type": "markdown",
      "source": [
        "### ***PRACTICAL EXAMPLES***"
      ],
      "metadata": {
        "id": "FOfSVG8dPMvV"
      }
    },
    {
      "cell_type": "markdown",
      "source": [
        "**1. Create a 3x3 NumPy array with random integers between 1 and 100 and interchange its rows and columns**"
      ],
      "metadata": {
        "id": "4bFzUIXmPVYq"
      }
    },
    {
      "cell_type": "code",
      "source": [
        "arr = np.random.randint(1, 101, size=(3, 3))\n",
        "print(\"Original Array:\\n\", arr)\n",
        "\n",
        "# Interchange rows and columns (transpose)\n",
        "transposed_arr = arr.T\n",
        "print(\"Transposed Array:\\n\", transposed_arr)"
      ],
      "metadata": {
        "colab": {
          "base_uri": "https://localhost:8080/"
        },
        "id": "RxV04nowN2f3",
        "outputId": "a5933d92-a85d-46dd-a1a5-5224938ca65e"
      },
      "execution_count": 14,
      "outputs": [
        {
          "output_type": "stream",
          "name": "stdout",
          "text": [
            "Original Array:\n",
            " [[12 51 25]\n",
            " [17 94 35]\n",
            " [17 84 33]]\n",
            "Transposed Array:\n",
            " [[12 17 17]\n",
            " [51 94 84]\n",
            " [25 35 33]]\n"
          ]
        }
      ]
    },
    {
      "cell_type": "markdown",
      "source": [
        "**2. Generate a 1D NumPy array with 10 elements, reshape it into a 2x5 array, then into a 5x2 array**"
      ],
      "metadata": {
        "id": "n7gS7apBPv8S"
      }
    },
    {
      "cell_type": "code",
      "source": [
        "arr_1d = np.arange(10)\n",
        "print(\"1D Array:\\n\", arr_1d)\n",
        "\n",
        "# Reshape into 2x5\n",
        "arr_2x5 = arr_1d.reshape(2, 5)\n",
        "print(\"Reshaped to 2x5:\\n\", arr_2x5)\n",
        "\n",
        "# Reshape into 5x2\n",
        "arr_5x2 = arr_2x5.reshape(5, 2)\n",
        "print(\"Reshaped to 5x2:\\n\", arr_5x2)"
      ],
      "metadata": {
        "colab": {
          "base_uri": "https://localhost:8080/"
        },
        "id": "72gogAA5Ptl0",
        "outputId": "3d0ba54f-9cd7-46f3-f218-71b4b856d083"
      },
      "execution_count": 15,
      "outputs": [
        {
          "output_type": "stream",
          "name": "stdout",
          "text": [
            "1D Array:\n",
            " [0 1 2 3 4 5 6 7 8 9]\n",
            "Reshaped to 2x5:\n",
            " [[0 1 2 3 4]\n",
            " [5 6 7 8 9]]\n",
            "Reshaped to 5x2:\n",
            " [[0 1]\n",
            " [2 3]\n",
            " [4 5]\n",
            " [6 7]\n",
            " [8 9]]\n"
          ]
        }
      ]
    },
    {
      "cell_type": "markdown",
      "source": [
        "**3. Create a 4x4 NumPy array with random float values, add a border of zeros around it to make a 6x6 array**"
      ],
      "metadata": {
        "id": "DTY-lHWpRinW"
      }
    },
    {
      "cell_type": "code",
      "source": [
        "arr_4x4 = np.random.rand(4, 4)\n",
        "print(\"Original 4x4 Array:\\n\", arr_4x4)\n",
        "\n",
        "# Add border of zeros\n",
        "arr_6x6 = np.pad(arr_4x4, pad_width=1, mode='constant', constant_values=0)\n",
        "print(\"6x6 Array with Border:\\n\", arr_6x6)"
      ],
      "metadata": {
        "colab": {
          "base_uri": "https://localhost:8080/"
        },
        "id": "5ug-8nKSOMCF",
        "outputId": "9a228463-0b2f-4829-9ded-99cc54c01b2d"
      },
      "execution_count": 16,
      "outputs": [
        {
          "output_type": "stream",
          "name": "stdout",
          "text": [
            "Original 4x4 Array:\n",
            " [[0.20975665 0.42652807 0.17835322 0.75749295]\n",
            " [0.36129476 0.41104705 0.90785131 0.57559181]\n",
            " [0.46507597 0.7585598  0.7541966  0.40099669]\n",
            " [0.99587053 0.3450224  0.75807697 0.56591811]]\n",
            "6x6 Array with Border:\n",
            " [[0.         0.         0.         0.         0.         0.        ]\n",
            " [0.         0.20975665 0.42652807 0.17835322 0.75749295 0.        ]\n",
            " [0.         0.36129476 0.41104705 0.90785131 0.57559181 0.        ]\n",
            " [0.         0.46507597 0.7585598  0.7541966  0.40099669 0.        ]\n",
            " [0.         0.99587053 0.3450224  0.75807697 0.56591811 0.        ]\n",
            " [0.         0.         0.         0.         0.         0.        ]]\n"
          ]
        }
      ]
    },
    {
      "cell_type": "markdown",
      "source": [
        "**4. Create an array of integers from 10 to 60 with a step of 5**"
      ],
      "metadata": {
        "id": "za6J96adR95y"
      }
    },
    {
      "cell_type": "code",
      "source": [
        "arr_step = np.arange(10, 61, 5)\n",
        "print(\"Array from 10 to 60 with step of 5:\\n\", arr_step)\n"
      ],
      "metadata": {
        "colab": {
          "base_uri": "https://localhost:8080/"
        },
        "id": "y4_gSkEMRmd7",
        "outputId": "2a58c9c8-8c2e-4a30-a1d3-ccf2cb4e4d25"
      },
      "execution_count": 17,
      "outputs": [
        {
          "output_type": "stream",
          "name": "stdout",
          "text": [
            "Array from 10 to 60 with step of 5:\n",
            " [10 15 20 25 30 35 40 45 50 55 60]\n"
          ]
        }
      ]
    },
    {
      "cell_type": "markdown",
      "source": [
        "**5. Create an array of strings ['python', 'numpy', 'pandas'] and apply different case transformations**"
      ],
      "metadata": {
        "id": "73b4RRtTSSRP"
      }
    },
    {
      "cell_type": "code",
      "source": [
        "arr_str = np.array(['python', 'numpy', 'pandas'])\n",
        "\n",
        "# Uppercase\n",
        "uppercase_arr = np.char.upper(arr_str)\n",
        "print(\"Uppercase:\", uppercase_arr)\n",
        "\n",
        "# Lowercase\n",
        "lowercase_arr = np.char.lower(arr_str)\n",
        "print(\"Lowercase:\", lowercase_arr)\n",
        "\n",
        "# Title case\n",
        "titlecase_arr = np.char.title(arr_str)\n",
        "print(\"Title case:\", titlecase_arr)"
      ],
      "metadata": {
        "colab": {
          "base_uri": "https://localhost:8080/"
        },
        "id": "mAGrTXMKSBQn",
        "outputId": "cb2be504-70b9-4af7-f493-e83dba9be1f3"
      },
      "execution_count": 18,
      "outputs": [
        {
          "output_type": "stream",
          "name": "stdout",
          "text": [
            "Uppercase: ['PYTHON' 'NUMPY' 'PANDAS']\n",
            "Lowercase: ['python' 'numpy' 'pandas']\n",
            "Title case: ['Python' 'Numpy' 'Pandas']\n"
          ]
        }
      ]
    },
    {
      "cell_type": "markdown",
      "source": [
        "**6. Generate an array of words and insert a space between each character of every word**"
      ],
      "metadata": {
        "id": "nRUGSpjCSllv"
      }
    },
    {
      "cell_type": "code",
      "source": [
        "words = np.array(['data', 'science', 'numpy'])\n",
        "spaced_words = np.char.join(' ', words)\n",
        "print(\"Words with spaces:\\n\", spaced_words)"
      ],
      "metadata": {
        "colab": {
          "base_uri": "https://localhost:8080/"
        },
        "id": "cC3eRXUySVV1",
        "outputId": "0579f242-0a61-4972-fa43-44c36872c1fe"
      },
      "execution_count": 19,
      "outputs": [
        {
          "output_type": "stream",
          "name": "stdout",
          "text": [
            "Words with spaces:\n",
            " ['d a t a' 's c i e n c e' 'n u m p y']\n"
          ]
        }
      ]
    },
    {
      "cell_type": "markdown",
      "source": [
        "**7. Create two 2D arrays and perform element-wise addition, subtraction, multiplication, and division**"
      ],
      "metadata": {
        "id": "gOxF9FyTSwL3"
      }
    },
    {
      "cell_type": "code",
      "source": [
        "arr1 = np.array([[1, 2], [3, 4]])\n",
        "arr2 = np.array([[5, 6], [7, 8]])\n",
        "\n",
        "# Addition\n",
        "add_result = arr1 + arr2\n",
        "print(\"Addition:\\n\", add_result)\n",
        "\n",
        "# Subtraction\n",
        "sub_result = arr1 - arr2\n",
        "print(\"Subtraction:\\n\", sub_result)\n",
        "\n",
        "# Multiplication\n",
        "mul_result = arr1 * arr2\n",
        "print(\"Multiplication:\\n\", mul_result)\n",
        "\n",
        "# Division\n",
        "div_result = arr1 / arr2\n",
        "print(\"Division:\\n\", div_result)"
      ],
      "metadata": {
        "colab": {
          "base_uri": "https://localhost:8080/"
        },
        "id": "dNgE1Da-SpYf",
        "outputId": "e88a7779-f080-472b-d93b-53559a5ab058"
      },
      "execution_count": 20,
      "outputs": [
        {
          "output_type": "stream",
          "name": "stdout",
          "text": [
            "Addition:\n",
            " [[ 6  8]\n",
            " [10 12]]\n",
            "Subtraction:\n",
            " [[-4 -4]\n",
            " [-4 -4]]\n",
            "Multiplication:\n",
            " [[ 5 12]\n",
            " [21 32]]\n",
            "Division:\n",
            " [[0.2        0.33333333]\n",
            " [0.42857143 0.5       ]]\n"
          ]
        }
      ]
    },
    {
      "cell_type": "markdown",
      "source": [
        "**8. Create a 5x5 identity matrix and extract its diagonal elements**"
      ],
      "metadata": {
        "id": "T8UK9Ts2S9QC"
      }
    },
    {
      "cell_type": "code",
      "source": [
        "identity_matrix = np.eye(5)\n",
        "print(\"Identity Matrix:\\n\", identity_matrix)\n",
        "\n",
        "# Extract diagonal elements\n",
        "diagonal_elements = np.diag(identity_matrix)\n",
        "print(\"Diagonal Elements:\", diagonal_elements)"
      ],
      "metadata": {
        "colab": {
          "base_uri": "https://localhost:8080/"
        },
        "id": "GCRjZyNRSzYR",
        "outputId": "81856426-3fd6-4c7c-d1be-285a0b0a2dc5"
      },
      "execution_count": 21,
      "outputs": [
        {
          "output_type": "stream",
          "name": "stdout",
          "text": [
            "Identity Matrix:\n",
            " [[1. 0. 0. 0. 0.]\n",
            " [0. 1. 0. 0. 0.]\n",
            " [0. 0. 1. 0. 0.]\n",
            " [0. 0. 0. 1. 0.]\n",
            " [0. 0. 0. 0. 1.]]\n",
            "Diagonal Elements: [1. 1. 1. 1. 1.]\n"
          ]
        }
      ]
    },
    {
      "cell_type": "markdown",
      "source": [
        "**9. Generate an array of 100 random integers between 0 and 1000 and display all prime numbers in the array**"
      ],
      "metadata": {
        "id": "XZAJYobZTNu0"
      }
    },
    {
      "cell_type": "code",
      "source": [
        "from sympy import isprime\n",
        "\n",
        "random_ints = np.random.randint(0, 1000, 100)\n",
        "primes = [num for num in random_ints if isprime(num)]\n",
        "print(\"Random Integers:\\n\", random_ints)\n",
        "print(\"Prime Numbers:\\n\", primes)"
      ],
      "metadata": {
        "colab": {
          "base_uri": "https://localhost:8080/"
        },
        "id": "G_pcmZqYTAV4",
        "outputId": "f8f6ffb2-8d48-46ee-9ebe-d774a7fb6520"
      },
      "execution_count": 22,
      "outputs": [
        {
          "output_type": "stream",
          "name": "stdout",
          "text": [
            "Random Integers:\n",
            " [278 418 298   3 382 318 545 802  59 384 313  46 786  36 656 337 178 801\n",
            " 392 426   7 400 877 292 473 409 774 789 878 659 654 949 857 553  47 195\n",
            " 104 140 641 948 126 115 697 570 702 139 692  82 662 699 292 944 718 593\n",
            " 217 564 678 521 608 907 785 582 502 450 955 448 882 281 740 949 724 824\n",
            " 674 467 138 973 339 328 320 739 325 917 574 620 371 155 445 370 799 668\n",
            " 587 958 700 229  75 842 237 433 894 366]\n",
            "Prime Numbers:\n",
            " [3, 59, 313, 337, 7, 877, 409, 659, 857, 47, 641, 139, 593, 521, 907, 281, 467, 739, 587, 229, 433]\n"
          ]
        }
      ]
    },
    {
      "cell_type": "markdown",
      "source": [
        "**10. Create an array representing daily temperatures for a month, calculate weekly averages**"
      ],
      "metadata": {
        "id": "Vpo3D8F1TP5-"
      }
    },
    {
      "cell_type": "code",
      "source": [
        "# Generate daily temperatures for a month (30 days)\n",
        "temperatures = np.random.randint(15, 35, size=30)\n",
        "print(\"Daily Temperatures:\\n\", temperatures)\n",
        "\n",
        "# Reshape into weeks (4 weeks of 7 days each, with an extra day for the 5th week)\n",
        "temperatures = np.resize(temperatures, (5, 7))\n",
        "print(\"Reshaped Temperatures:\\n\", temperatures)\n",
        "\n",
        "# Calculate weekly averages\n",
        "weekly_averages = np.mean(temperatures, axis=1)\n",
        "print(\"Weekly Averages:\\n\", weekly_averages)"
      ],
      "metadata": {
        "colab": {
          "base_uri": "https://localhost:8080/"
        },
        "id": "Uv2ga8gOTIPT",
        "outputId": "21064f84-2796-40bf-8145-1bab1325a951"
      },
      "execution_count": 24,
      "outputs": [
        {
          "output_type": "stream",
          "name": "stdout",
          "text": [
            "Daily Temperatures:\n",
            " [20 15 15 21 30 18 32 22 29 20 16 32 33 15 34 33 17 17 15 32 29 15 33 25\n",
            " 28 25 31 19 15 15]\n",
            "Reshaped Temperatures:\n",
            " [[20 15 15 21 30 18 32]\n",
            " [22 29 20 16 32 33 15]\n",
            " [34 33 17 17 15 32 29]\n",
            " [15 33 25 28 25 31 19]\n",
            " [15 15 20 15 15 21 30]]\n",
            "Weekly Averages:\n",
            " [21.57142857 23.85714286 25.28571429 25.14285714 18.71428571]\n"
          ]
        }
      ]
    },
    {
      "cell_type": "code",
      "source": [],
      "metadata": {
        "id": "g504jKwmTbev"
      },
      "execution_count": null,
      "outputs": []
    }
  ]
}